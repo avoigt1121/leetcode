{
 "cells": [
  {
   "cell_type": "code",
   "execution_count": 92,
   "id": "9532f784",
   "metadata": {},
   "outputs": [],
   "source": [
    "import math\n",
    "from math import floor\n",
    "from math import factorial\n",
    "from itertools import combinations\n",
    "from collections import deque"
   ]
  },
  {
   "cell_type": "code",
   "execution_count": 16,
   "id": "6ff3686c",
   "metadata": {},
   "outputs": [],
   "source": [
    "\n",
    "class Solution:\n",
    "    def fractionToDecimal(self, numerator: int, denominator: int) -> str:\n",
    "        if numerator == 0:\n",
    "            return \"0\"\n",
    "        res = []\n",
    "        # sign\n",
    "        if (numerator < 0) ^ (denominator < 0):\n",
    "            res.append(\"-\")\n",
    "        numerator, denominator = abs(numerator), abs(denominator)\n",
    "        res.append(str(numerator // denominator))\n",
    "        remainder = numerator % denominator\n",
    "        if remainder == 0:\n",
    "            return \"\".join(res)\n",
    "        else:\n",
    "            res.append(\".\") \n",
    "        # map: remainder -> index in result\n",
    "        seen = {}\n",
    "\n",
    "        while remainder != 0:\n",
    "            if remainder in seen:\n",
    "                idx = seen[remainder]\n",
    "                res.insert(idx, \"(\")\n",
    "                res.append(\")\")\n",
    "                break\n",
    "\n",
    "            seen[remainder] = len(res)\n",
    "            remainder *= 10\n",
    "            res.append(str(remainder // denominator))\n",
    "            remainder %= denominator\n",
    "        return \"\".join(res)"
   ]
  },
  {
   "cell_type": "code",
   "execution_count": 17,
   "id": "49b3b552",
   "metadata": {},
   "outputs": [
    {
     "name": "stdout",
     "output_type": "stream",
     "text": [
      "Result: 01(6)\n"
     ]
    }
   ],
   "source": [
    "Solution().fractionToDecimal(1, 7)"
   ]
  },
  {
   "cell_type": "code",
   "execution_count": 84,
   "id": "0a35f179",
   "metadata": {},
   "outputs": [],
   "source": [
    "class Solution:\n",
    "    def countSubarrays(self, nums: list[int], k: int) -> int:\n",
    "        final_list = []\n",
    "\n",
    "        def recursive_func(nums, current_combo, start_idx, k, final_list):\n",
    "        # Check current combination\n",
    "            if current_combo and sum(current_combo)*len(current_combo) < k:\n",
    "                final_list.append(current_combo.copy())\n",
    "            \n",
    "            # Try adding each remaining element\n",
    "            for i in range(start_idx, len(nums)):\n",
    "                current_combo.append(nums[i])\n",
    "                recursive_func(nums, current_combo, i + 1, k, final_list)\n",
    "                current_combo.pop()  # Backtrack\n",
    "            \n",
    "            return final_list\n",
    "        recursive_func(nums, [], 0, k, final_list)\n",
    "        # Remove duplicates by converting subarrays to tuples and back to lists\n",
    "        final_list = list(dict.fromkeys(tuple(subarray) for subarray in final_list))\n",
    "        final_list = [list(t) for t in final_list]  # Convert tuples back\n",
    "        final_count = len(final_list)\n",
    "        print(final_list)\n",
    "        return final_count"
   ]
  },
  {
   "cell_type": "code",
   "execution_count": 87,
   "id": "fc04b407",
   "metadata": {},
   "outputs": [
    {
     "name": "stdout",
     "output_type": "stream",
     "text": [
      "[[2], [2, 1], [1], [1, 3], [4], [3], [5]]\n"
     ]
    },
    {
     "data": {
      "text/plain": [
       "7"
      ]
     },
     "execution_count": 87,
     "metadata": {},
     "output_type": "execute_result"
    }
   ],
   "source": [
    "Solution().countSubarrays([2,1,4,3,5], k=10)"
   ]
  },
  {
   "cell_type": "code",
   "execution_count": 107,
   "id": "951a3de8",
   "metadata": {},
   "outputs": [],
   "source": [
    "class MyStack:\n",
    "    \n",
    "    def __init__(self):\n",
    "        self.stack = deque()\n",
    "        self.helper_stack = deque()\n",
    "\n",
    "    def push(self, x: int) -> None:\n",
    "        self.stack.append(x)\n",
    "        while self.stack:\n",
    "            self.helper_stack.append(self.stack.popleft())\n",
    "        self.helper_stack, self.stack = self.stack, self.helper_stack\n",
    "\n",
    "    def pop(self) -> None:\n",
    "        return self.stack.popleft() \n",
    "\n",
    "    def top(self) -> int:\n",
    "        if not self.empty():\n",
    "            return self.stack[0]\n",
    "        return None\n",
    "\n",
    "    def empty(self) -> bool:\n",
    "        return not self.stack"
   ]
  },
  {
   "cell_type": "code",
   "execution_count": 108,
   "id": "bb8af909",
   "metadata": {},
   "outputs": [],
   "source": [
    "stack = MyStack()"
   ]
  },
  {
   "cell_type": "code",
   "execution_count": 118,
   "id": "0beed7c8",
   "metadata": {},
   "outputs": [],
   "source": [
    "stack.push(4)"
   ]
  },
  {
   "cell_type": "code",
   "execution_count": 126,
   "id": "3f4e913a",
   "metadata": {},
   "outputs": [],
   "source": [
    "class MyQueue:\n",
    "\n",
    "    def __init__(self):\n",
    "        self.queue = deque()\n",
    "        self.helper_queue = deque()\n",
    "        \n",
    "\n",
    "    def push(self, x: int) -> None:\n",
    "        self.queue.append(x)\n",
    "        while self.queue:\n",
    "            self.helper_queue.append(self.queue.popleft())\n",
    "        self.helper_queue, self.queue = self.queue, self.helper_queue\n",
    "\n",
    "    def pop(self) -> int:\n",
    "        return self.queue.popleft()\n",
    "\n",
    "    def empty(self) -> bool:\n",
    "        return not self.queue"
   ]
  },
  {
   "cell_type": "code",
   "execution_count": 150,
   "id": "abf443cb",
   "metadata": {},
   "outputs": [],
   "source": [
    "from collections import deque\n",
    "\n",
    "class RecentCounter:\n",
    "    def __init__(self):\n",
    "        self.requests = deque()\n",
    "\n",
    "    def ping(self, t: int) -> int:\n",
    "        self.requests.append(t)\n",
    "        while self.requests and self.requests[0] < t - 3000:\n",
    "            self.requests.popleft()\n",
    "        return len(self.requests)\n",
    "\n",
    "\n",
    "# Your RecentCounter object will be instantiated and called as such:\n",
    "# obj = RecentCounter()\n",
    "# param_1 = obj.ping(t)\n"
   ]
  },
  {
   "cell_type": "code",
   "execution_count": 182,
   "id": "6a4b6abb",
   "metadata": {},
   "outputs": [],
   "source": [
    "class Solution:\n",
    "    def twoSum(self, nums: list[int], target: int) -> list[int]:\n",
    "        num_to_index = {}\n",
    "        for i, num in enumerate(nums):\n",
    "            complement = target - num\n",
    "            if complement in num_to_index:\n",
    "                return [num_to_index[complement], i]\n",
    "            num_to_index[num] = i\n",
    "        \n",
    "        return(-1)"
   ]
  },
  {
   "cell_type": "code",
   "execution_count": 183,
   "id": "c0395042",
   "metadata": {},
   "outputs": [
    {
     "data": {
      "text/plain": [
       "[0, 2]"
      ]
     },
     "execution_count": 183,
     "metadata": {},
     "output_type": "execute_result"
    }
   ],
   "source": [
    "Solution().twoSum([1,2,4,5], 5)"
   ]
  },
  {
   "cell_type": "code",
   "execution_count": 321,
   "id": "a526b791",
   "metadata": {},
   "outputs": [],
   "source": [
    "class Solution:\n",
    "    def lengthOfLongestSubstring(self, s: str) -> int:\n",
    "        char_to_index = {}\n",
    "        longest = 0\n",
    "        left = 0\n",
    "        for right, char in enumerate(s):\n",
    "            if char in char_to_index and char_to_index[char] >= left:\n",
    "                left = char_to_index[char] + 1 \n",
    "            char_to_index[char] = right\n",
    "            longest = max(longest, right - left + 1)\n",
    "        return(longest)"
   ]
  },
  {
   "cell_type": "code",
   "execution_count": 322,
   "id": "87d56c47",
   "metadata": {},
   "outputs": [
    {
     "data": {
      "text/plain": [
       "3"
      ]
     },
     "execution_count": 322,
     "metadata": {},
     "output_type": "execute_result"
    }
   ],
   "source": [
    "Solution().lengthOfLongestSubstring('pwwkew')"
   ]
  },
  {
   "cell_type": "code",
   "execution_count": null,
   "id": "607a6dc7",
   "metadata": {},
   "outputs": [],
   "source": []
  }
 ],
 "metadata": {
  "kernelspec": {
   "display_name": ".venv (3.13.0)",
   "language": "python",
   "name": "python3"
  },
  "language_info": {
   "codemirror_mode": {
    "name": "ipython",
    "version": 3
   },
   "file_extension": ".py",
   "mimetype": "text/x-python",
   "name": "python",
   "nbconvert_exporter": "python",
   "pygments_lexer": "ipython3",
   "version": "3.13.0"
  }
 },
 "nbformat": 4,
 "nbformat_minor": 5
}
